{
  "nbformat": 4,
  "nbformat_minor": 0,
  "metadata": {
    "colab": {
      "provenance": []
    },
    "kernelspec": {
      "name": "python3",
      "display_name": "Python 3"
    },
    "language_info": {
      "name": "python"
    }
  },
  "cells": [
    {
      "cell_type": "code",
      "execution_count": null,
      "metadata": {
        "colab": {
          "base_uri": "https://localhost:8080/"
        },
        "id": "Js5gOAAcpqNl",
        "outputId": "5b281b80-4019-441a-99fe-a9c9df324264"
      },
      "outputs": [
        {
          "output_type": "stream",
          "name": "stdout",
          "text": [
            "1.13.0+cu116 0.14.0+cu116\n"
          ]
        }
      ],
      "source": [
        "%matplotlib inline\n",
        "\n",
        "import numpy as np\n",
        "from pprint import pprint\n",
        "\n",
        "from PIL import Image\n",
        "import matplotlib.pyplot as plt\n",
        "\n",
        "import torch\n",
        "import torch.nn as nn\n",
        "import torch.nn.functional as F\n",
        "from torch.autograd import grad\n",
        "import torchvision\n",
        "from torchvision import models, datasets, transforms\n",
        "torch.manual_seed(50)\n",
        "\n",
        "print(torch.__version__, torchvision.__version__)"
      ]
    },
    {
      "cell_type": "code",
      "source": [
        "!pip install pyts"
      ],
      "metadata": {
        "colab": {
          "base_uri": "https://localhost:8080/"
        },
        "id": "VMYddzzpp4ep",
        "outputId": "9fadab20-6fa5-457a-d987-cf7955f110b7"
      },
      "execution_count": null,
      "outputs": [
        {
          "output_type": "stream",
          "name": "stdout",
          "text": [
            "Looking in indexes: https://pypi.org/simple, https://us-python.pkg.dev/colab-wheels/public/simple/\n",
            "Collecting pyts\n",
            "  Downloading pyts-0.12.0-py3-none-any.whl (2.5 MB)\n",
            "\u001b[K     |████████████████████████████████| 2.5 MB 9.1 MB/s \n",
            "\u001b[?25hRequirement already satisfied: scikit-learn>=0.22.1 in /usr/local/lib/python3.8/dist-packages (from pyts) (1.0.2)\n",
            "Requirement already satisfied: numpy>=1.17.5 in /usr/local/lib/python3.8/dist-packages (from pyts) (1.21.6)\n",
            "Requirement already satisfied: scipy>=1.3.0 in /usr/local/lib/python3.8/dist-packages (from pyts) (1.7.3)\n",
            "Requirement already satisfied: numba>=0.48.0 in /usr/local/lib/python3.8/dist-packages (from pyts) (0.56.4)\n",
            "Requirement already satisfied: joblib>=0.12 in /usr/local/lib/python3.8/dist-packages (from pyts) (1.2.0)\n",
            "Requirement already satisfied: setuptools in /usr/local/lib/python3.8/dist-packages (from numba>=0.48.0->pyts) (57.4.0)\n",
            "Requirement already satisfied: llvmlite<0.40,>=0.39.0dev0 in /usr/local/lib/python3.8/dist-packages (from numba>=0.48.0->pyts) (0.39.1)\n",
            "Requirement already satisfied: importlib-metadata in /usr/local/lib/python3.8/dist-packages (from numba>=0.48.0->pyts) (4.13.0)\n",
            "Requirement already satisfied: threadpoolctl>=2.0.0 in /usr/local/lib/python3.8/dist-packages (from scikit-learn>=0.22.1->pyts) (3.1.0)\n",
            "Requirement already satisfied: zipp>=0.5 in /usr/local/lib/python3.8/dist-packages (from importlib-metadata->numba>=0.48.0->pyts) (3.11.0)\n",
            "Installing collected packages: pyts\n",
            "Successfully installed pyts-0.12.0\n"
          ]
        }
      ]
    },
    {
      "cell_type": "code",
      "source": [
        "from mpl_toolkits.axes_grid1 import ImageGrid\n",
        "from pyts.image import GramianAngularField\n",
        "from pyts.datasets import load_gunpoint"
      ],
      "metadata": {
        "id": "BRGHpLUaYylF"
      },
      "execution_count": null,
      "outputs": []
    },
    {
      "cell_type": "code",
      "source": [
        "device = \"cpu\"\n",
        "#if torch.cuda.is_available():\n",
        "#    device = \"cuda\"\n",
        "print(\"Running on %s\" % device)\n",
        "\n"
      ],
      "metadata": {
        "colab": {
          "base_uri": "https://localhost:8080/"
        },
        "id": "TF5M4NrXp-Wf",
        "outputId": "5e8f4ff1-0e4a-4e7e-ff93-6fca48f64bc3"
      },
      "execution_count": null,
      "outputs": [
        {
          "output_type": "stream",
          "name": "stdout",
          "text": [
            "Running on cpu\n"
          ]
        }
      ]
    },
    {
      "cell_type": "code",
      "source": [
        "def plot_series(time, series, format='-', start=0, end=None, label=None, color=None):\n",
        "  plt.plot(time[start:end], series[start:end], format, label=label, color=color)\n",
        "  plt.xlabel('Time')\n",
        "  plt.ylabel('Value')\n",
        "  if label:\n",
        "    plt.legend(fontsize=14)\n",
        "  plt.grid(True)\n",
        "\n",
        "def label_to_onehot(target, num_classes):\n",
        "    target = torch.unsqueeze(target, 1)\n",
        "    onehot_target = torch.zeros(target.size(0), num_classes, device=target.device)\n",
        "    onehot_target.scatter_(1, target, 1)\n",
        "    return onehot_target\n",
        "\n",
        "def cross_entropy_for_onehot(pred, target):\n",
        "    return torch.mean(torch.sum(- target * F.log_softmax(pred, dim=-1), 1)) \n"
      ],
      "metadata": {
        "id": "k9lGWABw2Bev"
      },
      "execution_count": null,
      "outputs": []
    },
    {
      "cell_type": "code",
      "source": [
        "from turtle import forward\n",
        "\n",
        "\n",
        "\n",
        "def weights_init(m):\n",
        "    if hasattr(m, 'weight'):\n",
        "        m.weight.data.uniform_(-0.5, 0.5).float()\n",
        "    if hasattr(m, 'bias'):\n",
        "        m.weight.data.uniform_(-0.5, 0.5).float()\n",
        "\n",
        "class DNN(nn.Module):\n",
        "    def __init__(self):\n",
        "        super(DNN, self).__init__()\n",
        "        act = nn.Sigmoid\n",
        "        self.body = nn.Sequential(\n",
        "            nn.Linear(24, 48),\n",
        "            act(),\n",
        "            nn.Linear(48, 48),\n",
        "            act(),\n",
        "            nn.Linear(48, 1)\n",
        "        )\n",
        "        self.float()\n",
        "\n",
        "    def forward(self, x):\n",
        "        out = self.body(x)\n",
        "        return out\n",
        "\n",
        "net = DNN().to(device)\n",
        "\n",
        "net.apply(weights_init)\n",
        "\n",
        "criterion = cross_entropy_for_onehot\n",
        "\n",
        "#criterion = nn.MSELoss()\n"
      ],
      "metadata": {
        "id": "oCGxkzYR2Fsg"
      },
      "execution_count": null,
      "outputs": []
    },
    {
      "cell_type": "code",
      "source": [
        "def create_dataset_central(data, time_step):\n",
        "  x_data, y_data = [], []\n",
        "  for i in range(len(data) - time_step):\n",
        "    x = data[i: (i + time_step)]\n",
        "    x_data.append(x)\n",
        "    y = [data[i + time_step]]\n",
        "    y_data.append(y)\n",
        "  x_data = np.array(x_data)\n",
        "  y_data = np.array(y_data)\n",
        "  return x_data, y_data"
      ],
      "metadata": {
        "id": "PMMUbaBQ2MIW"
      },
      "execution_count": null,
      "outputs": []
    },
    {
      "cell_type": "code",
      "source": [
        "data = []\n",
        "with open ('House_30.txt', 'r') as reader:\n",
        "  for line in reader:\n",
        "    stripped_line = line.strip().split()\n",
        "    data.append(stripped_line)\n",
        "\n",
        "tem = [x[0] for x in data]\n",
        "houses = list(set(tem))\n",
        "\n",
        "date = []\n",
        "consumption = []\n",
        "for i in houses:\n",
        "  date.append([float(x[1]) for x in data if x[0]==i])\n",
        "  consumption.append([float(x[2]) for x in data if x[0]==i])"
      ],
      "metadata": {
        "id": "qZQW_SH12Tk_"
      },
      "execution_count": null,
      "outputs": []
    },
    {
      "cell_type": "code",
      "source": [
        "length = len(date[0])\n",
        "split = int(0.8*length)\n",
        "\n",
        "train_raw = [x[0: split] for x in consumption]\n",
        "test_raw = [x[split: ] for x in consumption]\n",
        "time_step = 24\n",
        "\n",
        "xx = [[] for i in range(30)]\n",
        "yy = [[] for i in range(30)]\n",
        "xx_test = [[] for i in range(30)]\n",
        "yy_test = [[] for i in range(30)]\n",
        "\n",
        "for i in range(0, 30):\n",
        "  xx[i], yy[i] = create_dataset_central(train_raw[i], time_step)\n",
        "  xx_test[i], yy_test[i] = create_dataset_central(test_raw[i], time_step)"
      ],
      "metadata": {
        "id": "tmw0LCkxAI5M"
      },
      "execution_count": null,
      "outputs": []
    },
    {
      "cell_type": "code",
      "source": [
        "a = np.mean(yy[0])\n",
        "for i in range(len(yy[0])):\n",
        "    if yy[0][i] < a:\n",
        "        yy[0][i] = int(1)\n",
        "    else:\n",
        "        yy[0][i] = int(2)\n",
        "\n",
        "# convert target to label. 1 represents low consumption; 2 represents high   "
      ],
      "metadata": {
        "id": "Y5DGy-vGALxM"
      },
      "execution_count": null,
      "outputs": []
    },
    {
      "cell_type": "code",
      "source": [
        "def label_to_onehot1(target, num_classes):\n",
        "    target = torch.unsqueeze(target, 1)\n",
        "    onehot_target = torch.zeros(target.size(0), num_classes, device=target.device)\n",
        "    onehot_target.scatter_(1, target, 1)\n",
        "    return onehot_target"
      ],
      "metadata": {
        "id": "dmiXs8DeIGPB"
      },
      "execution_count": null,
      "outputs": []
    },
    {
      "cell_type": "code",
      "source": [
        "# convert X into image\n",
        "\n",
        "x_image = xx[0][0] # select one day's consumption\n",
        "b = x_image.reshape(1, -1)"
      ],
      "metadata": {
        "id": "m-d_1ZSaZXpp"
      },
      "execution_count": null,
      "outputs": []
    },
    {
      "cell_type": "code",
      "source": [
        "# Compute Gramian angular fields\n",
        "gasf = GramianAngularField(method='summation')\n",
        "X_gasf = gasf.fit_transform(b)\n",
        "\n",
        "gadf = GramianAngularField(method='difference')\n",
        "X_gadf = gadf.fit_transform(b)\n",
        "\n",
        "# either conversion algorithm is fine"
      ],
      "metadata": {
        "id": "CkcoaFr_PFc7"
      },
      "execution_count": null,
      "outputs": []
    },
    {
      "cell_type": "code",
      "source": [
        "# Show the images for the first time series\n",
        "fig = plt.figure(figsize=(8, 4))\n",
        "grid = ImageGrid(fig, 111,\n",
        "                 nrows_ncols=(1, 2),\n",
        "                 axes_pad=0.15,\n",
        "                 share_all=True,\n",
        "                 cbar_location=\"right\",\n",
        "                 cbar_mode=\"single\",\n",
        "                 cbar_size=\"7%\",\n",
        "                 cbar_pad=0.3,\n",
        "                 )\n",
        "images = [X_gasf[0], X_gadf[0]]\n",
        "titles = ['Summation', 'Difference']\n",
        "for image, title, ax in zip(images, titles, grid):\n",
        "    im = ax.imshow(image, cmap='rainbow', origin='lower')\n",
        "    ax.set_title(title, fontdict={'fontsize': 12})\n",
        "ax.cax.colorbar(im)\n",
        "ax.cax.toggle_label(True)\n",
        "plt.suptitle('Gramian Angular Fields', y=0.98, fontsize=16)\n",
        "plt.show()"
      ],
      "metadata": {
        "colab": {
          "base_uri": "https://localhost:8080/",
          "height": 394
        },
        "id": "ZOk3dsL4acPO",
        "outputId": "39dfda65-f445-4511-d416-51881d477851"
      },
      "execution_count": null,
      "outputs": [
        {
          "output_type": "stream",
          "name": "stderr",
          "text": [
            "<ipython-input-14-e9d7dd3e6e77>:17: MatplotlibDeprecationWarning: Since 3.2, mpl_toolkits's own colorbar implementation is deprecated; it will be removed two minor releases later.  Set the 'mpl_toolkits.legacy_colorbar' rcParam to False to use Matplotlib's default colorbar implementation and suppress this deprecation warning.\n",
            "  ax.cax.colorbar(im)\n",
            "/usr/local/lib/python3.8/dist-packages/mpl_toolkits/axes_grid1/axes_grid.py:51: MatplotlibDeprecationWarning: \n",
            "The mpl_toolkits.axes_grid1.colorbar module was deprecated in Matplotlib 3.2 and will be removed two minor releases later. Use matplotlib.colorbar instead.\n",
            "  from .colorbar import Colorbar\n"
          ]
        },
        {
          "output_type": "display_data",
          "data": {
            "text/plain": [
              "<Figure size 576x288 with 4 Axes>"
            ],
            "image/png": "[encoded data removed]"
          },
          "metadata": {
            "needs_background": "light"
          }
        }
      ]
    },
    {
      "cell_type": "code",
      "source": [
        "def weights_init(m):\n",
        "    if hasattr(m, 'weight'):\n",
        "        m.weight.data.uniform_(-0.5, 0.5).float()\n",
        "    if hasattr(m, 'bias'):\n",
        "        m.weight.data.uniform_(-0.5, 0.5).float()\n",
        "\n",
        "class LeNet(nn.Module):\n",
        "    def __init__(self):\n",
        "        super(LeNet, self).__init__()\n",
        "        act = nn.Sigmoid\n",
        "        self.body = nn.Sequential(\n",
        "            nn.Conv2d(1, 12, kernel_size=5, padding=5//2, stride=2),\n",
        "            act(),\n",
        "            nn.Conv2d(12, 12, kernel_size=5, padding=5//2, stride=2),\n",
        "            act(),\n",
        "            nn.Conv2d(12, 12, kernel_size=5, padding=5//2, stride=1),\n",
        "            act(),\n",
        "            nn.Conv2d(12, 12, kernel_size=5, padding=5//2, stride=1),\n",
        "            act(),\n",
        "        )\n",
        "        self.float()\n",
        "\n",
        "        self.fc = nn.Sequential(\n",
        "            nn.Linear(36, 10)\n",
        "        )\n",
        "        self.float()\n",
        "\n",
        "    def forward(self, x):\n",
        "        out = self.body(x)\n",
        "        out = out.view(out.size(0), -1)\n",
        "        # print(out.size())\n",
        "        out = self.fc(out)\n",
        "        return out\n",
        "\n",
        "net1 = LeNet().to(device)\n",
        "net1.apply(weights_init)\n"
      ],
      "metadata": {
        "colab": {
          "base_uri": "https://localhost:8080/"
        },
        "id": "19ryp2xaalGt",
        "outputId": "191b498f-86dc-44b4-f21e-051a323b0172"
      },
      "execution_count": null,
      "outputs": [
        {
          "output_type": "execute_result",
          "data": {
            "text/plain": [
              "LeNet(\n",
              "  (body): Sequential(\n",
              "    (0): Conv2d(1, 12, kernel_size=(5, 5), stride=(2, 2), padding=(2, 2))\n",
              "    (1): Sigmoid()\n",
              "    (2): Conv2d(12, 12, kernel_size=(5, 5), stride=(2, 2), padding=(2, 2))\n",
              "    (3): Sigmoid()\n",
              "    (4): Conv2d(12, 12, kernel_size=(5, 5), stride=(1, 1), padding=(2, 2))\n",
              "    (5): Sigmoid()\n",
              "    (6): Conv2d(12, 12, kernel_size=(5, 5), stride=(1, 1), padding=(2, 2))\n",
              "    (7): Sigmoid()\n",
              "  )\n",
              "  (fc): Sequential(\n",
              "    (0): Linear(in_features=36, out_features=10, bias=True)\n",
              "  )\n",
              ")"
            ]
          },
          "metadata": {},
          "execution_count": 15
        }
      ]
    },
    {
      "cell_type": "code",
      "source": [
        "b = torch.from_numpy(X_gadf).float()"
      ],
      "metadata": {
        "id": "zARq9Ih2BAQy"
      },
      "execution_count": null,
      "outputs": []
    },
    {
      "cell_type": "code",
      "source": [
        "b.dtype"
      ],
      "metadata": {
        "colab": {
          "base_uri": "https://localhost:8080/"
        },
        "id": "vz16MFXvsJw7",
        "outputId": "277b21bb-11fb-472c-ed3d-f9d3a3b75f3a"
      },
      "execution_count": null,
      "outputs": [
        {
          "output_type": "execute_result",
          "data": {
            "text/plain": [
              "torch.float32"
            ]
          },
          "metadata": {},
          "execution_count": 17
        }
      ]
    },
    {
      "cell_type": "code",
      "source": [
        "num_classes = 10\n",
        "K = torch.tensor([2])\n",
        "\n",
        "out = net1(b)\n",
        "\n",
        "gt_onehot_label = label_to_onehot1(K, num_classes)\n",
        "\n",
        "score = criterion(out, gt_onehot_label)\n",
        "\n",
        "dy_dx = torch.autograd.grad(score, net1.parameters())\n",
        "\n",
        "original_dy_dx = list((_.detach().clone() for _ in dy_dx))"
      ],
      "metadata": {
        "id": "E6XuZ7B6IS-H"
      },
      "execution_count": null,
      "outputs": []
    },
    {
      "cell_type": "code",
      "source": [
        "# generate dummy data and label\n",
        "tt = transforms.ToPILImage()\n",
        "\n",
        "dummy_data = torch.randn(b.size()).to(device).requires_grad_(True)\n",
        "dummy_label = torch.randn(gt_onehot_label.size()).to(device).requires_grad_(True)\n",
        "\n",
        "plt.imshow(tt(dummy_data[0].cpu()))\n",
        "plt.title(\"Dummy data\")\n",
        "print(\"Dummy label is %d.\" % torch.argmax(dummy_label, dim=-1).item())"
      ],
      "metadata": {
        "colab": {
          "base_uri": "https://localhost:8080/",
          "height": 299
        },
        "id": "Tk4W4q4JKFAZ",
        "outputId": "abf71bea-afa1-4ff0-eccd-95966adacf51"
      },
      "execution_count": null,
      "outputs": [
        {
          "output_type": "stream",
          "name": "stdout",
          "text": [
            "Dummy label is 7.\n"
          ]
        },
        {
          "output_type": "display_data",
          "data": {
            "text/plain": [
              "<Figure size 432x288 with 1 Axes>"
            ],
            "image/png": "[encoded data removed]"
          },
          "metadata": {
            "needs_background": "light"
          }
        }
      ]
    },
    {
      "cell_type": "code",
      "source": [
        "plt.imshow(tt(b.cpu()))"
      ],
      "metadata": {
        "colab": {
          "base_uri": "https://localhost:8080/",
          "height": 283
        },
        "id": "1eJSI1qgSVgx",
        "outputId": "33aa4cc0-22aa-477f-cd19-12a6cdf4074d"
      },
      "execution_count": null,
      "outputs": [
        {
          "output_type": "execute_result",
          "data": {
            "text/plain": [
              "<matplotlib.image.AxesImage at 0x7f6b9d6667c0>"
            ]
          },
          "metadata": {},
          "execution_count": 24
        },
        {
          "output_type": "display_data",
          "data": {
            "text/plain": [
              "<Figure size 432x288 with 1 Axes>"
            ],
            "image/png": "[encoded data removed]"
          },
          "metadata": {
            "needs_background": "light"
          }
        }
      ]
    },
    {
      "cell_type": "code",
      "source": [
        "optimizer = torch.optim.LBFGS([dummy_data, dummy_label] )\n",
        "\n",
        "history = []\n",
        "for iters in range(301):\n",
        "    def closure():\n",
        "        optimizer.zero_grad()\n",
        "\n",
        "        pred = net1(dummy_data) \n",
        "        dummy_onehot_label = F.softmax(dummy_label, dim=-1)\n",
        "        dummy_loss = criterion(pred, dummy_onehot_label) # TODO: fix the gt_label to dummy_label in both code and slides.\n",
        "        dummy_dy_dx = torch.autograd.grad(dummy_loss, net1.parameters(), create_graph=True)\n",
        "        \n",
        "        grad_diff = 0\n",
        "        grad_count = 0\n",
        "        for gx, gy in zip(dummy_dy_dx, original_dy_dx): # TODO: fix the variablas here\n",
        "            grad_diff += ((gx - gy) ** 2).sum()\n",
        "            grad_count += gx.nelement()\n",
        "        # grad_diff = grad_diff / grad_count * 1000\n",
        "        grad_diff.backward()\n",
        "        \n",
        "        return grad_diff\n",
        "    \n",
        "    optimizer.step(closure)\n",
        "    if iters % 10 == 0: \n",
        "        current_loss = closure()\n",
        "        print(iters, \"%.4f\" % current_loss.item())\n",
        "    history.append(tt(dummy_data[0].cpu()))"
      ],
      "metadata": {
        "colab": {
          "base_uri": "https://localhost:8080/"
        },
        "id": "ffe201LsOuxe",
        "outputId": "8b9d4337-47b5-41c7-d160-768322c152ed"
      },
      "execution_count": null,
      "outputs": [
        {
          "output_type": "stream",
          "name": "stdout",
          "text": [
            "0 0.0075\n",
            "10 0.0000\n",
            "20 0.0000\n",
            "30 0.0000\n",
            "40 0.0000\n",
            "50 0.0000\n",
            "60 0.0000\n",
            "70 0.0000\n",
            "80 0.0000\n",
            "90 0.0000\n",
            "100 0.0000\n",
            "110 0.0000\n",
            "120 0.0000\n",
            "130 0.0000\n",
            "140 0.0000\n",
            "150 0.0000\n",
            "160 0.0000\n",
            "170 0.0000\n",
            "180 0.0000\n",
            "190 0.0000\n",
            "200 0.0000\n",
            "210 0.0000\n",
            "220 0.0000\n",
            "230 0.0000\n",
            "240 0.0000\n",
            "250 0.0000\n",
            "260 0.0000\n",
            "270 0.0000\n",
            "280 0.0000\n",
            "290 0.0000\n",
            "300 0.0000\n"
          ]
        }
      ]
    },
    {
      "cell_type": "code",
      "source": [
        "b"
      ],
      "metadata": {
        "id": "L8VG9eRVPUmN"
      },
      "execution_count": null,
      "outputs": []
    },
    {
      "cell_type": "code",
      "source": [
        "dummy_data[0]"
      ],
      "metadata": {
        "id": "ZDAv0JZZPLkN"
      },
      "execution_count": null,
      "outputs": []
    },
    {
      "cell_type": "code",
      "source": [
        "plt.figure(figsize=(12, 8))\n",
        "for i in range(30):\n",
        "  plt.subplot(3, 10, i + 1)\n",
        "  plt.imshow(history[i * 10])\n",
        "  plt.title(\"iter=%d\" % (i * 10))\n",
        "  plt.axis('off')\n",
        "print(\"Dummy label is %d.\" % torch.argmax(dummy_label, dim=-1).item())"
      ],
      "metadata": {
        "colab": {
          "base_uri": "https://localhost:8080/",
          "height": 429
        },
        "id": "nPFdkvaEPCgB",
        "outputId": "2cbe3aa4-657e-4ee0-c634-569b47b6a634"
      },
      "execution_count": null,
      "outputs": [
        {
          "output_type": "stream",
          "name": "stdout",
          "text": [
            "Dummy label is 2.\n"
          ]
        },
        {
          "output_type": "display_data",
          "data": {
            "text/plain": [
              "<Figure size 864x576 with 30 Axes>"
            ],
            "image/png": "[encoded data removed]"
          },
          "metadata": {
            "needs_background": "light"
          }
        }
      ]
    },
    {
      "cell_type": "code",
      "source": [
        "plt.imshow(tt(b.cpu()))\n",
        "plt.title(\"The original image after conversion\")"
      ],
      "metadata": {
        "colab": {
          "base_uri": "https://localhost:8080/",
          "height": 299
        },
        "id": "57AmcPdaStSf",
        "outputId": "ab91ec0e-5f21-473f-8256-64628dd5ef9c"
      },
      "execution_count": null,
      "outputs": [
        {
          "output_type": "execute_result",
          "data": {
            "text/plain": [
              "Text(0.5, 1.0, 'The original image after conversion')"
            ]
          },
          "metadata": {},
          "execution_count": 29
        },
        {
          "output_type": "display_data",
          "data": {
            "text/plain": [
              "<Figure size 432x288 with 1 Axes>"
            ],
            "image/png": "[encoded data removed]"
          },
          "metadata": {
            "needs_background": "light"
          }
        }
      ]
    },
    {
      "cell_type": "code",
      "source": [
        "plt.imshow(history[200])\n"
      ],
      "metadata": {
        "colab": {
          "base_uri": "https://localhost:8080/",
          "height": 283
        },
        "id": "Yi48SkbESdoY",
        "outputId": "1c4946fc-769f-44dd-ec3c-e1ae48789fc8"
      },
      "execution_count": null,
      "outputs": [
        {
          "output_type": "execute_result",
          "data": {
            "text/plain": [
              "<matplotlib.image.AxesImage at 0x7f6b9c6ef610>"
            ]
          },
          "metadata": {},
          "execution_count": 30
        },
        {
          "output_type": "display_data",
          "data": {
            "text/plain": [
              "<Figure size 432x288 with 1 Axes>"
            ],
            "image/png": "[encoded data removed]"
          },
          "metadata": {
            "needs_background": "light"
          }
        }
      ]
    },
    {
      "cell_type": "code",
      "source": [
        "j = b[0][0]\n",
        "k = dummy_data[0][0]\n",
        "j = j.detach().numpy()\n",
        "k = k.detach().numpy()"
      ],
      "metadata": {
        "id": "_dAcfsnnLJVz"
      },
      "execution_count": null,
      "outputs": []
    },
    {
      "cell_type": "code",
      "source": [
        "l = range(len(j))"
      ],
      "metadata": {
        "id": "S3iXYzuiMh6S"
      },
      "execution_count": null,
      "outputs": []
    },
    {
      "cell_type": "code",
      "source": [
        "plt.plot(l,j,color = 'r')\n",
        "plt.plot(l,k,color = 'g')"
      ],
      "metadata": {
        "colab": {
          "base_uri": "https://localhost:8080/",
          "height": 283
        },
        "id": "MAMHPAjWL_lK",
        "outputId": "e040885c-f788-4ba8-a06d-48b3a8dcd7dc"
      },
      "execution_count": null,
      "outputs": [
        {
          "output_type": "execute_result",
          "data": {
            "text/plain": [
              "[<matplotlib.lines.Line2D at 0x7fb822d80550>]"
            ]
          },
          "metadata": {},
          "execution_count": 41
        },
        {
          "output_type": "display_data",
          "data": {
            "text/plain": [
              "<Figure size 432x288 with 1 Axes>"
            ],
            "image/png": "[encoded data removed]"
          },
          "metadata": {
            "needs_background": "light"
          }
        }
      ]
    },
    {
      "cell_type": "code",
      "source": [
        "m = j - k"
      ],
      "metadata": {
        "id": "1_sKg-GHM4V7"
      },
      "execution_count": null,
      "outputs": []
    },
    {
      "cell_type": "code",
      "source": [
        "m"
      ],
      "metadata": {
        "colab": {
          "base_uri": "https://localhost:8080/"
        },
        "id": "vpNN5sIVNJIC",
        "outputId": "84e6a1f5-b98f-45a6-bd7a-98770ab8bdb8"
      },
      "execution_count": null,
      "outputs": [
        {
          "output_type": "execute_result",
          "data": {
            "text/plain": [
              "array([ 1.1687713e-03, -1.2154876e-03,  4.7449768e-04, -8.9682639e-05,\n",
              "        1.7254055e-04, -1.1305958e-03,  7.1460754e-04, -1.2604892e-03,\n",
              "        1.4613271e-03, -3.3897832e-03,  1.9778609e-03, -4.3755770e-04,\n",
              "       -3.2995641e-04, -2.1284968e-03,  1.2275353e-03, -3.5911798e-06,\n",
              "        9.6079707e-04, -2.9908270e-03,  1.3042688e-03,  3.6981702e-04,\n",
              "        1.1557937e-03, -1.6444027e-03,  2.7419180e-03, -6.8658739e-03],\n",
              "      dtype=float32)"
            ]
          },
          "metadata": {},
          "execution_count": 43
        }
      ]
    },
    {
      "cell_type": "code",
      "source": [
        "plt.figure(figsize=(12, 8))\n",
        "for i in range(6):\n",
        "  plt.subplot(2, 3, i + 1)\n",
        "  plt.imshow(history[i * 10])\n",
        "  plt.title(\"iter=%d\" % (i * 10))\n",
        "  plt.axis('off')\n"
      ],
      "metadata": {
        "colab": {
          "base_uri": "https://localhost:8080/",
          "height": 481
        },
        "id": "gV-GNqrZwB8Y",
        "outputId": "ceca56d4-cd46-4033-cdef-7b23f9d89280"
      },
      "execution_count": null,
      "outputs": [
        {
          "output_type": "display_data",
          "data": {
            "text/plain": [
              "<Figure size 864x576 with 6 Axes>"
            ],
            "image/png": "[encoded data removed]"
          },
          "metadata": {
            "needs_background": "light"
          }
        }
      ]
    }
  ]
}