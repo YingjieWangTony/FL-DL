{
  "nbformat": 4,
  "nbformat_minor": 0,
  "metadata": {
    "colab": {
      "provenance": []
    },
    "kernelspec": {
      "name": "python3",
      "display_name": "Python 3"
    },
    "language_info": {
      "name": "python"
    }
  },
  "cells": [
    {
      "cell_type": "code",
      "source": [
        "!pip install -q flwr[simulation] torch torchvision matplotlib"
      ],
      "metadata": {
        "id": "bANoPbqWGWRA",
        "colab": {
          "base_uri": "https://localhost:8080/"
        },
        "outputId": "b65b327f-b2a0-4db8-a010-01ff8d477b2d"
      },
      "execution_count": 1,
      "outputs": [
        {
          "output_type": "stream",
          "name": "stdout",
          "text": [
            "\u001b[2K     \u001b[90m━━━━━━━━━━━━━━━━━━━━━━━━━━━━━━━━━━━━━━━\u001b[0m \u001b[32m139.3/139.3 KB\u001b[0m \u001b[31m5.7 MB/s\u001b[0m eta \u001b[36m0:00:00\u001b[0m\n",
            "\u001b[2K     \u001b[90m━━━━━━━━━━━━━━━━━━━━━━━━━━━━━━━━━━━━━━━━\u001b[0m \u001b[32m57.4/57.4 MB\u001b[0m \u001b[31m13.3 MB/s\u001b[0m eta \u001b[36m0:00:00\u001b[0m\n",
            "\u001b[2K     \u001b[90m━━━━━━━━━━━━━━━━━━━━━━━━━━━━━━━━━━━━━━━━\u001b[0m \u001b[32m8.7/8.7 MB\u001b[0m \u001b[31m88.3 MB/s\u001b[0m eta \u001b[36m0:00:00\u001b[0m\n",
            "\u001b[2K     \u001b[90m━━━━━━━━━━━━━━━━━━━━━━━━━━━━━━━━━━━━━━━━\u001b[0m \u001b[32m90.5/90.5 KB\u001b[0m \u001b[31m10.4 MB/s\u001b[0m eta \u001b[36m0:00:00\u001b[0m\n",
            "\u001b[?25h  Preparing metadata (setup.py) ... \u001b[?25l\u001b[?25hdone\n",
            "\u001b[2K     \u001b[90m━━━━━━━━━━━━━━━━━━━━━━━━━━━━━━━━━━━━━━━━\u001b[0m \u001b[32m3.0/3.0 MB\u001b[0m \u001b[31m46.5 MB/s\u001b[0m eta \u001b[36m0:00:00\u001b[0m\n",
            "\u001b[2K     \u001b[90m━━━━━━━━━━━━━━━━━━━━━━━━━━━━━━━━━━━━━━━\u001b[0m \u001b[32m128.2/128.2 KB\u001b[0m \u001b[31m9.8 MB/s\u001b[0m eta \u001b[36m0:00:00\u001b[0m\n",
            "\u001b[2K     \u001b[90m━━━━━━━━━━━━━━━━━━━━━━━━━━━━━━━━━━━━━━━━\u001b[0m \u001b[32m57.1/57.1 KB\u001b[0m \u001b[31m7.0 MB/s\u001b[0m eta \u001b[36m0:00:00\u001b[0m\n",
            "\u001b[2K     \u001b[90m━━━━━━━━━━━━━━━━━━━━━━━━━━━━━━━━━━━━━━\u001b[0m \u001b[32m201.4/201.4 KB\u001b[0m \u001b[31m12.6 MB/s\u001b[0m eta \u001b[36m0:00:00\u001b[0m\n",
            "\u001b[2K     \u001b[90m━━━━━━━━━━━━━━━━━━━━━━━━━━━━━━━━━━━━━━\u001b[0m \u001b[32m280.2/280.2 KB\u001b[0m \u001b[31m26.6 MB/s\u001b[0m eta \u001b[36m0:00:00\u001b[0m\n",
            "\u001b[2K     \u001b[90m━━━━━━━━━━━━━━━━━━━━━━━━━━━━━━━━━━━━━━━━\u001b[0m \u001b[32m58.4/58.4 KB\u001b[0m \u001b[31m6.5 MB/s\u001b[0m eta \u001b[36m0:00:00\u001b[0m\n",
            "\u001b[2K     \u001b[90m━━━━━━━━━━━━━━━━━━━━━━━━━━━━━━━━━━━━━━\u001b[0m \u001b[32m468.5/468.5 KB\u001b[0m \u001b[31m34.7 MB/s\u001b[0m eta \u001b[36m0:00:00\u001b[0m\n",
            "\u001b[?25h  Building wheel for gpustat (setup.py) ... \u001b[?25l\u001b[?25hdone\n"
          ]
        }
      ]
    },
    {
      "cell_type": "code",
      "source": [
        "from collections import OrderedDict\n",
        "from typing import List, Tuple\n",
        "\n",
        "import flwr as fl\n",
        "import numpy as np\n",
        "import matplotlib.pyplot as plt\n",
        "import torch\n",
        "import torch.nn as nn\n",
        "import torchvision\n",
        "import torch.nn.functional as F\n",
        "import torchvision.transforms as transforms\n",
        "from flwr.common import Metrics\n",
        "from torch.utils.data import DataLoader, random_split\n",
        "from torchvision.datasets import CIFAR10\n",
        "\n",
        "DEVICE = torch.device(\"cpu\")  # Try \"cuda\" to train on GPU\n",
        "print(f\"Training on {DEVICE} using PyTorch {torch.__version__} and Flower {fl.__version__}\")"
      ],
      "metadata": {
        "colab": {
          "base_uri": "https://localhost:8080/"
        },
        "id": "JJ043aExGXXo",
        "outputId": "d4579f52-5d07-4b8c-de95-9bd4bb57e3d2"
      },
      "execution_count": 2,
      "outputs": [
        {
          "output_type": "stream",
          "name": "stdout",
          "text": [
            "Training on cpu using PyTorch 1.13.1+cu116 and Flower 1.3.0\n"
          ]
        }
      ]
    },
    {
      "cell_type": "markdown",
      "source": [
        "## Data Preparation\n"
      ],
      "metadata": {
        "id": "CLae2PQzLd-6"
      }
    },
    {
      "cell_type": "code",
      "source": [
        "# parameters\n",
        "time_step = 48\n",
        "BATCH_SIZE = 32"
      ],
      "metadata": {
        "id": "aEGaHFgxWErx"
      },
      "execution_count": 3,
      "outputs": []
    },
    {
      "cell_type": "code",
      "source": [
        "data = []\n",
        "with open ('House_30.txt', 'r') as reader:\n",
        "  for line in reader:\n",
        "    stripped_line = line.strip().split()\n",
        "    data.append(stripped_line)\n",
        "\n",
        "tem = [x[0] for x in data]\n",
        "houses = list(set(tem))\n",
        "\n",
        "date = []\n",
        "consumption = []\n",
        "for i in houses:\n",
        "  date.append([float(x[1]) for x in data if x[0]==i])\n",
        "  consumption.append([float(x[2]) for x in data if x[0]==i])    "
      ],
      "metadata": {
        "id": "6_GLqxcrFe-B"
      },
      "execution_count": 4,
      "outputs": []
    },
    {
      "cell_type": "code",
      "source": [
        "def create_label(data, time_step):\n",
        "  x_nest, y_nest = [], []\n",
        "  for j in range(len(data)):\n",
        "    x_data, y_data = [], []\n",
        "    for i in range(len(data[j]) - time_step):\n",
        "      x = data[j][i: (i + time_step)]\n",
        "      x_data.append(x)\n",
        "      y = [data[j][i + time_step]]\n",
        "      y_data.append(y)\n",
        "\n",
        "    #x_data = np.array(x_data)[:, :, np.newaxis]\n",
        "    x_data = np.array(x_data)[:, :]\n",
        "    #x_data = np.array(x_data)[:, np.newaxis, :]\n",
        "    x_nest.append(x_data)\n",
        "    y_nest.append(y_data)\n",
        "  x_nest = np.array(x_nest)\n",
        "  y_nest = np.array(y_nest)\n",
        "  return x_nest, y_nest\n",
        "# 可能要去掉x的最后一个维度 从（48，1）变为（48）"
      ],
      "metadata": {
        "id": "lFh5oiv0QHXG"
      },
      "execution_count": 5,
      "outputs": []
    },
    {
      "cell_type": "code",
      "source": [
        "input, labels = create_label(consumption, time_step)\n"
      ],
      "metadata": {
        "id": "E50GczgkSAoF"
      },
      "execution_count": 6,
      "outputs": []
    },
    {
      "cell_type": "code",
      "source": [
        "input = np.float32(input)\n",
        "labels = np.float32(labels)\n"
      ],
      "metadata": {
        "id": "YUlLivPStSy0"
      },
      "execution_count": 7,
      "outputs": []
    },
    {
      "cell_type": "markdown",
      "source": [
        "### Create Dataset"
      ],
      "metadata": {
        "id": "RN0xa70WooMg"
      }
    },
    {
      "cell_type": "code",
      "source": [
        "# 定义GetLoader类，继承Dataset方法，并重写__getitem__()和__len__()方法\n",
        "class GetLoader(torch.utils.data.Dataset):\n",
        "\t# 初始化函数，得到数据\n",
        "    def __init__(self, data_root, data_label):\n",
        "        self.data = data_root\n",
        "        self.label = data_label\n",
        "    # index是根据batchsize划分数据后得到的索引，最后将data和对应的labels进行一起返回\n",
        "    def __getitem__(self, index):\n",
        "        data = self.data[index]\n",
        "        labels = self.label[index]\n",
        "        return data, labels\n",
        "    # 该函数返回数据大小长度，目的是DataLoader方便划分，如果不知道大小，DataLoader会一脸懵逼\n",
        "    def __len__(self):\n",
        "        return len(self.data)\n"
      ],
      "metadata": {
        "id": "55XqPaqDiGq1"
      },
      "execution_count": 8,
      "outputs": []
    },
    {
      "cell_type": "code",
      "source": [
        "length = len(input[0])\n",
        "val = int(0.7*length)\n",
        "test = int(0.9*length)\n",
        "trainloaders = []\n",
        "valloaders = []\n",
        "testloaders = []\n",
        "\n",
        "def load_datasets(input, labels):\n",
        "\n",
        "  Xtrain_raw = [x[0: val] for x in input]\n",
        "  Xval_raw = [x[val: test] for x in input]\n",
        "  Xtest_raw = [x[test: ] for x in input]\n",
        "\n",
        "  Ytrain_raw = [x[0: val] for x in labels]\n",
        "  Yval_raw = [x[val: test] for x in labels]\n",
        "  Ytest_raw = [x[test: ] for x in labels]\n",
        "\n",
        "  for i in range(30):\n",
        "    ds_train = GetLoader(Xtrain_raw[i], Ytrain_raw[i])\n",
        "    trainloaders.append(DataLoader(ds_train, batch_size=BATCH_SIZE, shuffle=True, drop_last=True))\n",
        "    ds_val = GetLoader(Xval_raw[i], Yval_raw[i])\n",
        "    valloaders.append(DataLoader(ds_val, batch_size=BATCH_SIZE, drop_last=True))\n",
        "    ds_test= GetLoader(Xtest_raw[i], Ytest_raw[i])\n",
        "    testloaders.append(DataLoader(ds_test, batch_size=BATCH_SIZE, drop_last=True))\n",
        "\n",
        "  return trainloaders, valloaders, testloaders\n",
        "\n",
        "\n"
      ],
      "metadata": {
        "id": "EpQp0W7zxZTP"
      },
      "execution_count": 9,
      "outputs": []
    },
    {
      "cell_type": "code",
      "source": [
        "trainloaders, valloaders, testloaders = load_datasets(input, labels)"
      ],
      "metadata": {
        "id": "xgeKNAg80aTF"
      },
      "execution_count": 10,
      "outputs": []
    },
    {
      "cell_type": "markdown",
      "source": [
        "## Create Model"
      ],
      "metadata": {
        "id": "pVfo0GkH1fGd"
      }
    },
    {
      "cell_type": "code",
      "source": [
        "import torch.nn as nn\n"
      ],
      "metadata": {
        "id": "KlFemn7iWd8m"
      },
      "execution_count": 11,
      "outputs": []
    },
    {
      "cell_type": "code",
      "source": [
        "class DNN(nn.Module):\n",
        "    def __init__(self):\n",
        "        super(DNN, self).__init__()\n",
        "        act = nn.Sigmoid\n",
        "        self.body = nn.Sequential(\n",
        "            nn.Linear(48, 48),\n",
        "            act(),\n",
        "            nn.Linear(48, 48),\n",
        "            act(),\n",
        "            nn.Linear(48, 1)\n",
        "        )\n",
        "\n",
        "    def forward(self, x: torch.Tensor) -> torch.Tensor:\n",
        "        out = self.body(x)\n",
        "        return out\n",
        "\n",
        "criterion = nn.MSELoss() \n",
        "net = DNN().to(DEVICE)\n"
      ],
      "metadata": {
        "id": "chi_F7TF1hxn"
      },
      "execution_count": 12,
      "outputs": []
    },
    {
      "cell_type": "code",
      "source": [],
      "metadata": {
        "id": "5_Pwk1_6Q_lk"
      },
      "execution_count": 12,
      "outputs": []
    },
    {
      "cell_type": "code",
      "source": [],
      "metadata": {
        "id": "6jNHUvM_OdO5"
      },
      "execution_count": 12,
      "outputs": []
    },
    {
      "cell_type": "code",
      "source": [
        "def train(net, trainloader, epochs: int, verbose=False):\n",
        "    \"\"\"Train the network on the training set.\"\"\"\n",
        "    criterion = nn.MSELoss()\n",
        "    optimizer = torch.optim.Adam(net.parameters())\n",
        "    net.train()\n",
        "    for epoch in range(epochs):\n",
        "        correct, total, epoch_loss = 0, 0, 0.0\n",
        "        for x, y in trainloader:\n",
        "            \n",
        "            x, y = x.to(DEVICE), y.to(DEVICE)\n",
        "            optimizer.zero_grad()\n",
        "\n",
        "            #x = x.unsqueeze(0)\n",
        "            outputs = net(x)\n",
        "            loss = criterion(net(x), y)\n",
        "            loss.backward()\n",
        "            optimizer.step()\n",
        "            epoch_loss += loss\n",
        "           \n",
        "        epoch_loss /= len(trainloader.dataset)\n",
        "        if verbose:\n",
        "            print(f\"Epoch {epoch+1}: train loss {epoch_loss}\") \n",
        "\n",
        "\n",
        "def test(net, testloader):\n",
        "    \"\"\"Evaluate the network on the entire test set.\"\"\"\n",
        "    criterion = nn.MSELoss()\n",
        "    correct, total, loss = 0, 0, 0.0\n",
        "    net.eval()\n",
        "    with torch.no_grad():\n",
        "        for x, y in testloader:\n",
        "            x, y = x.to(DEVICE), y.to(DEVICE)\n",
        "            outputs = net(x)\n",
        "            loss += criterion(outputs, y).item()\n",
        "\n",
        "    loss /= len(testloader.dataset)\n",
        "   \n",
        "    return loss "
      ],
      "metadata": {
        "id": "b-mYJ2P8WIUe"
      },
      "execution_count": 13,
      "outputs": []
    },
    {
      "cell_type": "markdown",
      "source": [
        "### central test"
      ],
      "metadata": {
        "id": "BB6uIeGTgLMn"
      }
    },
    {
      "cell_type": "code",
      "source": [
        "x, y = next(iter(trainloaders[0]))"
      ],
      "metadata": {
        "id": "BnoFs1KRbUzT"
      },
      "execution_count": 14,
      "outputs": []
    },
    {
      "cell_type": "code",
      "source": [
        "trainloader = trainloaders[0]\n",
        "valloader = valloaders[0]\n",
        "testloader = testloaders[0]\n",
        "\n",
        "net = DNN().to(DEVICE)\n",
        "\n",
        "for epoch in range(5):\n",
        "    train(net, trainloader, 1)\n",
        "    loss = test(net, valloader)\n",
        "    print(f\"Epoch {epoch+1}: validation loss {loss}\")\n",
        "\n",
        "loss = test(net, testloader)\n",
        "print(f\"Final test set performance:\\n\\tloss {loss}\")\n",
        "\n"
      ],
      "metadata": {
        "colab": {
          "base_uri": "https://localhost:8080/"
        },
        "id": "JVJaWgOLXgpe",
        "outputId": "02bf01be-921a-46f1-efd0-ea5f7e6e01d4"
      },
      "execution_count": 16,
      "outputs": [
        {
          "output_type": "stream",
          "name": "stdout",
          "text": [
            "Epoch 1: validation loss 0.00046161330305311883\n",
            "Epoch 2: validation loss 0.0004643828129741099\n",
            "Epoch 3: validation loss 0.0004597749009186611\n",
            "Epoch 4: validation loss 0.0004479574013557256\n",
            "Epoch 5: validation loss 0.00044634901808130167\n",
            "Final test set performance:\n",
            "\tloss 0.0004570533737621482\n"
          ]
        }
      ]
    },
    {
      "cell_type": "code",
      "source": [],
      "metadata": {
        "id": "EVu1Sc81gJA-"
      },
      "execution_count": 16,
      "outputs": []
    },
    {
      "cell_type": "markdown",
      "source": [
        "## FL"
      ],
      "metadata": {
        "id": "b2YggcpRgPB-"
      }
    },
    {
      "cell_type": "code",
      "source": [
        "def get_parameters(net) -> List[np.ndarray]:\n",
        "    return [val.cpu().numpy() for _, val in net.state_dict().items()]\n",
        "\n",
        "def set_parameters(net, parameters: List[np.ndarray]):\n",
        "    params_dict = zip(net.state_dict().keys(), parameters)\n",
        "    state_dict = OrderedDict({k: torch.Tensor(v) for k, v in params_dict})\n",
        "    net.load_state_dict(state_dict, strict=True)\n",
        "\n"
      ],
      "metadata": {
        "id": "W1p2DJnRgRAW"
      },
      "execution_count": 17,
      "outputs": []
    },
    {
      "cell_type": "code",
      "source": [
        "class FlowerClient(fl.client.NumPyClient):\n",
        "    def __init__(self, net, trainloader, valloader):\n",
        "        self.net = net\n",
        "        self.trainloader = trainloader\n",
        "        self.valloader = valloader\n",
        "\n",
        "    def get_parameters(self, config):\n",
        "        return get_parameters(self.net)\n",
        "\n",
        "    def fit(self, parameters, config):\n",
        "        set_parameters(self.net, parameters)\n",
        "        train(self.net, self.trainloader, epochs=1)\n",
        "        return get_parameters(self.net), len(self.trainloader), {}\n",
        "\n",
        "    def evaluate(self, parameters, config):\n",
        "        set_parameters(self.net, parameters)\n",
        "        loss = test(self.net, self.valloader)\n",
        "        return float(loss), len(self.valloader), {\"accuracy\": float(0)}\n",
        "\n"
      ],
      "metadata": {
        "id": "ez9P_QZLhiu1"
      },
      "execution_count": 18,
      "outputs": []
    },
    {
      "cell_type": "code",
      "source": [
        "def client_fn(cid: str) -> FlowerClient:\n",
        "    \"\"\"Create a Flower client representing a single organization.\"\"\"\n",
        "\n",
        "    # Load model\n",
        "    net = DNN().to(DEVICE)\n",
        "\n",
        "\n",
        "\n",
        "    trainloader = trainloaders[int(cid)]\n",
        "    valloader = valloaders[int(cid)]\n",
        "\n",
        "    # Create a  single Flower client representing a single organization\n",
        "    return FlowerClient(net, trainloader, valloader)"
      ],
      "metadata": {
        "id": "P_TsTweQim4j"
      },
      "execution_count": 19,
      "outputs": []
    },
    {
      "cell_type": "code",
      "source": [
        "NUM_CLIENTS = 30"
      ],
      "metadata": {
        "id": "RO_7kHysjbAL"
      },
      "execution_count": 20,
      "outputs": []
    },
    {
      "cell_type": "code",
      "source": [],
      "metadata": {
        "id": "YwR-YZWuUT-F"
      },
      "execution_count": 20,
      "outputs": []
    },
    {
      "cell_type": "code",
      "source": [
        "# Create FedAvg strategy\n",
        "strategy = fl.server.strategy.FedAvg(\n",
        "        fraction_fit=1.0,  # Sample 100% of available clients for training\n",
        "        fraction_evaluate=0.3,  # Sample 50% of available clients for evaluation\n",
        "        min_fit_clients=10,  # Never sample less than 10 clients for training\n",
        "        min_evaluate_clients=5,  # Never sample less than 5 clients for evaluation\n",
        "        min_available_clients=10,  # Wait until all 10 clients are available\n",
        ")\n",
        "\n",
        "# Specify client resources if you need GPU (defaults to 1 CPU and 0 GPU)\n",
        "client_resources = None\n",
        "if DEVICE.type == \"cuda\":\n",
        "  client_resources = {\"num_gpus\": 1}\n",
        "\n",
        "# Start simulation\n",
        "fl.simulation.start_simulation(\n",
        "    client_fn=client_fn,\n",
        "    num_clients=NUM_CLIENTS,\n",
        "    config=fl.server.ServerConfig(num_rounds=10), #10\n",
        "    strategy=strategy,\n",
        "    client_resources=client_resources,\n",
        ")"
      ],
      "metadata": {
        "id": "7CCC8WGbjNLy",
        "colab": {
          "base_uri": "https://localhost:8080/"
        },
        "outputId": "bfddbeeb-1451-45f2-db93-68fbd5d22cda"
      },
      "execution_count": 21,
      "outputs": [
        {
          "output_type": "stream",
          "name": "stderr",
          "text": [
            "INFO flwr 2023-03-02 10:35:27,091 | app.py:145 | Starting Flower simulation, config: ServerConfig(num_rounds=10, round_timeout=None)\n",
            "INFO:flwr:Starting Flower simulation, config: ServerConfig(num_rounds=10, round_timeout=None)\n",
            "2023-03-02 10:35:30,323\tINFO worker.py:1529 -- Started a local Ray instance. View the dashboard at \u001b[1m\u001b[32mhttp://127.0.0.1:8265 \u001b[39m\u001b[22m\n",
            "INFO flwr 2023-03-02 10:35:32,451 | app.py:179 | Flower VCE: Ray initialized with resources: {'CPU': 2.0, 'memory': 7921739367.0, 'node:172.28.0.12': 1.0, 'object_store_memory': 3960869683.0}\n",
            "INFO:flwr:Flower VCE: Ray initialized with resources: {'CPU': 2.0, 'memory': 7921739367.0, 'node:172.28.0.12': 1.0, 'object_store_memory': 3960869683.0}\n",
            "INFO flwr 2023-03-02 10:35:32,461 | server.py:86 | Initializing global parameters\n",
            "INFO:flwr:Initializing global parameters\n",
            "INFO flwr 2023-03-02 10:35:32,468 | server.py:270 | Requesting initial parameters from one random client\n",
            "INFO:flwr:Requesting initial parameters from one random client\n",
            "INFO flwr 2023-03-02 10:35:34,625 | server.py:274 | Received initial parameters from one random client\n",
            "INFO:flwr:Received initial parameters from one random client\n",
            "INFO flwr 2023-03-02 10:35:34,629 | server.py:88 | Evaluating initial parameters\n",
            "INFO:flwr:Evaluating initial parameters\n",
            "INFO flwr 2023-03-02 10:35:34,632 | server.py:101 | FL starting\n",
            "INFO:flwr:FL starting\n",
            "DEBUG flwr 2023-03-02 10:35:34,635 | server.py:215 | fit_round 1: strategy sampled 30 clients (out of 30)\n",
            "DEBUG:flwr:fit_round 1: strategy sampled 30 clients (out of 30)\n",
            "\u001b[2m\u001b[36m(launch_and_fit pid=1494)\u001b[0m /usr/local/lib/python3.8/dist-packages/torch/utils/data/_utils/collate.py:172: UserWarning: The given NumPy array is not writable, and PyTorch does not support non-writable tensors. This means writing to this tensor will result in undefined behavior. You may want to copy the array to protect its data or make it writable before converting it to a tensor. This type of warning will be suppressed for the rest of this program. (Triggered internally at ../torch/csrc/utils/tensor_numpy.cpp:199.)\n",
            "\u001b[2m\u001b[36m(launch_and_fit pid=1494)\u001b[0m   return collate([torch.as_tensor(b) for b in batch], collate_fn_map=collate_fn_map)\n",
            "\u001b[2m\u001b[36m(launch_and_fit pid=1493)\u001b[0m /usr/local/lib/python3.8/dist-packages/torch/utils/data/_utils/collate.py:172: UserWarning: The given NumPy array is not writable, and PyTorch does not support non-writable tensors. This means writing to this tensor will result in undefined behavior. You may want to copy the array to protect its data or make it writable before converting it to a tensor. This type of warning will be suppressed for the rest of this program. (Triggered internally at ../torch/csrc/utils/tensor_numpy.cpp:199.)\n",
            "\u001b[2m\u001b[36m(launch_and_fit pid=1493)\u001b[0m   return collate([torch.as_tensor(b) for b in batch], collate_fn_map=collate_fn_map)\n",
            "DEBUG flwr 2023-03-02 10:36:00,780 | server.py:229 | fit_round 1 received 30 results and 0 failures\n",
            "DEBUG:flwr:fit_round 1 received 30 results and 0 failures\n",
            "WARNING flwr 2023-03-02 10:36:00,888 | fedavg.py:242 | No fit_metrics_aggregation_fn provided\n",
            "WARNING:flwr:No fit_metrics_aggregation_fn provided\n",
            "DEBUG flwr 2023-03-02 10:36:00,895 | server.py:165 | evaluate_round 1: strategy sampled 9 clients (out of 30)\n",
            "DEBUG:flwr:evaluate_round 1: strategy sampled 9 clients (out of 30)\n",
            "DEBUG flwr 2023-03-02 10:36:03,287 | server.py:179 | evaluate_round 1 received 9 results and 0 failures\n",
            "DEBUG:flwr:evaluate_round 1 received 9 results and 0 failures\n",
            "WARNING flwr 2023-03-02 10:36:03,293 | fedavg.py:273 | No evaluate_metrics_aggregation_fn provided\n",
            "WARNING:flwr:No evaluate_metrics_aggregation_fn provided\n",
            "DEBUG flwr 2023-03-02 10:36:03,296 | server.py:215 | fit_round 2: strategy sampled 30 clients (out of 30)\n",
            "DEBUG:flwr:fit_round 2: strategy sampled 30 clients (out of 30)\n",
            "DEBUG flwr 2023-03-02 10:36:28,745 | server.py:229 | fit_round 2 received 30 results and 0 failures\n",
            "DEBUG:flwr:fit_round 2 received 30 results and 0 failures\n",
            "DEBUG flwr 2023-03-02 10:36:28,818 | server.py:165 | evaluate_round 2: strategy sampled 9 clients (out of 30)\n",
            "DEBUG:flwr:evaluate_round 2: strategy sampled 9 clients (out of 30)\n",
            "DEBUG flwr 2023-03-02 10:36:29,865 | server.py:179 | evaluate_round 2 received 9 results and 0 failures\n",
            "DEBUG:flwr:evaluate_round 2 received 9 results and 0 failures\n",
            "DEBUG flwr 2023-03-02 10:36:29,868 | server.py:215 | fit_round 3: strategy sampled 30 clients (out of 30)\n",
            "DEBUG:flwr:fit_round 3: strategy sampled 30 clients (out of 30)\n",
            "DEBUG flwr 2023-03-02 10:36:56,873 | server.py:229 | fit_round 3 received 30 results and 0 failures\n",
            "DEBUG:flwr:fit_round 3 received 30 results and 0 failures\n",
            "DEBUG flwr 2023-03-02 10:36:56,937 | server.py:165 | evaluate_round 3: strategy sampled 9 clients (out of 30)\n",
            "DEBUG:flwr:evaluate_round 3: strategy sampled 9 clients (out of 30)\n",
            "DEBUG flwr 2023-03-02 10:36:57,989 | server.py:179 | evaluate_round 3 received 9 results and 0 failures\n",
            "DEBUG:flwr:evaluate_round 3 received 9 results and 0 failures\n",
            "DEBUG flwr 2023-03-02 10:36:57,992 | server.py:215 | fit_round 4: strategy sampled 30 clients (out of 30)\n",
            "DEBUG:flwr:fit_round 4: strategy sampled 30 clients (out of 30)\n",
            "DEBUG flwr 2023-03-02 10:37:22,031 | server.py:229 | fit_round 4 received 30 results and 0 failures\n",
            "DEBUG:flwr:fit_round 4 received 30 results and 0 failures\n",
            "DEBUG flwr 2023-03-02 10:37:22,144 | server.py:165 | evaluate_round 4: strategy sampled 9 clients (out of 30)\n",
            "DEBUG:flwr:evaluate_round 4: strategy sampled 9 clients (out of 30)\n",
            "DEBUG flwr 2023-03-02 10:37:23,947 | server.py:179 | evaluate_round 4 received 9 results and 0 failures\n",
            "DEBUG:flwr:evaluate_round 4 received 9 results and 0 failures\n",
            "DEBUG flwr 2023-03-02 10:37:23,950 | server.py:215 | fit_round 5: strategy sampled 30 clients (out of 30)\n",
            "DEBUG:flwr:fit_round 5: strategy sampled 30 clients (out of 30)\n",
            "DEBUG flwr 2023-03-02 10:37:53,014 | server.py:229 | fit_round 5 received 30 results and 0 failures\n",
            "DEBUG:flwr:fit_round 5 received 30 results and 0 failures\n",
            "DEBUG flwr 2023-03-02 10:37:53,087 | server.py:165 | evaluate_round 5: strategy sampled 9 clients (out of 30)\n",
            "DEBUG:flwr:evaluate_round 5: strategy sampled 9 clients (out of 30)\n",
            "DEBUG flwr 2023-03-02 10:37:54,118 | server.py:179 | evaluate_round 5 received 9 results and 0 failures\n",
            "DEBUG:flwr:evaluate_round 5 received 9 results and 0 failures\n",
            "DEBUG flwr 2023-03-02 10:37:54,125 | server.py:215 | fit_round 6: strategy sampled 30 clients (out of 30)\n",
            "DEBUG:flwr:fit_round 6: strategy sampled 30 clients (out of 30)\n",
            "DEBUG flwr 2023-03-02 10:38:23,461 | server.py:229 | fit_round 6 received 30 results and 0 failures\n",
            "DEBUG:flwr:fit_round 6 received 30 results and 0 failures\n",
            "DEBUG flwr 2023-03-02 10:38:23,538 | server.py:165 | evaluate_round 6: strategy sampled 9 clients (out of 30)\n",
            "DEBUG:flwr:evaluate_round 6: strategy sampled 9 clients (out of 30)\n",
            "DEBUG flwr 2023-03-02 10:38:24,573 | server.py:179 | evaluate_round 6 received 9 results and 0 failures\n",
            "DEBUG:flwr:evaluate_round 6 received 9 results and 0 failures\n",
            "DEBUG flwr 2023-03-02 10:38:24,578 | server.py:215 | fit_round 7: strategy sampled 30 clients (out of 30)\n",
            "DEBUG:flwr:fit_round 7: strategy sampled 30 clients (out of 30)\n",
            "DEBUG flwr 2023-03-02 10:38:56,469 | server.py:229 | fit_round 7 received 30 results and 0 failures\n",
            "DEBUG:flwr:fit_round 7 received 30 results and 0 failures\n",
            "DEBUG flwr 2023-03-02 10:38:56,551 | server.py:165 | evaluate_round 7: strategy sampled 9 clients (out of 30)\n",
            "DEBUG:flwr:evaluate_round 7: strategy sampled 9 clients (out of 30)\n",
            "DEBUG flwr 2023-03-02 10:38:58,340 | server.py:179 | evaluate_round 7 received 9 results and 0 failures\n",
            "DEBUG:flwr:evaluate_round 7 received 9 results and 0 failures\n",
            "DEBUG flwr 2023-03-02 10:38:58,354 | server.py:215 | fit_round 8: strategy sampled 30 clients (out of 30)\n",
            "DEBUG:flwr:fit_round 8: strategy sampled 30 clients (out of 30)\n",
            "DEBUG flwr 2023-03-02 10:39:29,341 | server.py:229 | fit_round 8 received 30 results and 0 failures\n",
            "DEBUG:flwr:fit_round 8 received 30 results and 0 failures\n",
            "DEBUG flwr 2023-03-02 10:39:29,418 | server.py:165 | evaluate_round 8: strategy sampled 9 clients (out of 30)\n",
            "DEBUG:flwr:evaluate_round 8: strategy sampled 9 clients (out of 30)\n",
            "DEBUG flwr 2023-03-02 10:39:30,515 | server.py:179 | evaluate_round 8 received 9 results and 0 failures\n",
            "DEBUG:flwr:evaluate_round 8 received 9 results and 0 failures\n",
            "DEBUG flwr 2023-03-02 10:39:30,521 | server.py:215 | fit_round 9: strategy sampled 30 clients (out of 30)\n",
            "DEBUG:flwr:fit_round 9: strategy sampled 30 clients (out of 30)\n",
            "DEBUG flwr 2023-03-02 10:39:59,936 | server.py:229 | fit_round 9 received 30 results and 0 failures\n",
            "DEBUG:flwr:fit_round 9 received 30 results and 0 failures\n",
            "DEBUG flwr 2023-03-02 10:40:00,027 | server.py:165 | evaluate_round 9: strategy sampled 9 clients (out of 30)\n",
            "DEBUG:flwr:evaluate_round 9: strategy sampled 9 clients (out of 30)\n",
            "DEBUG flwr 2023-03-02 10:40:01,873 | server.py:179 | evaluate_round 9 received 9 results and 0 failures\n",
            "DEBUG:flwr:evaluate_round 9 received 9 results and 0 failures\n",
            "DEBUG flwr 2023-03-02 10:40:01,878 | server.py:215 | fit_round 10: strategy sampled 30 clients (out of 30)\n",
            "DEBUG:flwr:fit_round 10: strategy sampled 30 clients (out of 30)\n",
            "DEBUG flwr 2023-03-02 10:40:29,325 | server.py:229 | fit_round 10 received 30 results and 0 failures\n",
            "DEBUG:flwr:fit_round 10 received 30 results and 0 failures\n",
            "DEBUG flwr 2023-03-02 10:40:29,457 | server.py:165 | evaluate_round 10: strategy sampled 9 clients (out of 30)\n",
            "DEBUG:flwr:evaluate_round 10: strategy sampled 9 clients (out of 30)\n",
            "DEBUG flwr 2023-03-02 10:40:30,540 | server.py:179 | evaluate_round 10 received 9 results and 0 failures\n",
            "DEBUG:flwr:evaluate_round 10 received 9 results and 0 failures\n",
            "INFO flwr 2023-03-02 10:40:30,546 | server.py:144 | FL finished in 295.91133964799997\n",
            "INFO:flwr:FL finished in 295.91133964799997\n",
            "INFO flwr 2023-03-02 10:40:30,552 | app.py:202 | app_fit: losses_distributed [(1, 0.0005071522247761447), (2, 0.000494309431758388), (3, 0.0004312967937400593), (4, 0.0005382926278649015), (5, 0.0006636932836009273), (6, 0.0006370644797949081), (7, 0.0005757896574412962), (8, 0.0006899634151506374), (9, 0.00039990288845295893), (10, 0.000741631588620531)]\n",
            "INFO:flwr:app_fit: losses_distributed [(1, 0.0005071522247761447), (2, 0.000494309431758388), (3, 0.0004312967937400593), (4, 0.0005382926278649015), (5, 0.0006636932836009273), (6, 0.0006370644797949081), (7, 0.0005757896574412962), (8, 0.0006899634151506374), (9, 0.00039990288845295893), (10, 0.000741631588620531)]\n",
            "INFO flwr 2023-03-02 10:40:30,556 | app.py:203 | app_fit: metrics_distributed {}\n",
            "INFO:flwr:app_fit: metrics_distributed {}\n",
            "INFO flwr 2023-03-02 10:40:30,564 | app.py:204 | app_fit: losses_centralized []\n",
            "INFO:flwr:app_fit: losses_centralized []\n",
            "INFO flwr 2023-03-02 10:40:30,567 | app.py:205 | app_fit: metrics_centralized {}\n",
            "INFO:flwr:app_fit: metrics_centralized {}\n"
          ]
        },
        {
          "output_type": "execute_result",
          "data": {
            "text/plain": [
              "History (loss, distributed):\n",
              "\tround 1: 0.0005071522247761447\n",
              "\tround 2: 0.000494309431758388\n",
              "\tround 3: 0.0004312967937400593\n",
              "\tround 4: 0.0005382926278649015\n",
              "\tround 5: 0.0006636932836009273\n",
              "\tround 6: 0.0006370644797949081\n",
              "\tround 7: 0.0005757896574412962\n",
              "\tround 8: 0.0006899634151506374\n",
              "\tround 9: 0.00039990288845295893\n",
              "\tround 10: 0.000741631588620531"
            ]
          },
          "metadata": {},
          "execution_count": 21
        }
      ]
    },
    {
      "cell_type": "code",
      "source": [
        "net"
      ],
      "metadata": {
        "colab": {
          "base_uri": "https://localhost:8080/"
        },
        "id": "TdWvWxNWSpnN",
        "outputId": "31265c7b-7e1a-4acb-c288-b0737b42196b"
      },
      "execution_count": 22,
      "outputs": [
        {
          "output_type": "execute_result",
          "data": {
            "text/plain": [
              "DNN(\n",
              "  (body): Sequential(\n",
              "    (0): Linear(in_features=48, out_features=48, bias=True)\n",
              "    (1): Sigmoid()\n",
              "    (2): Linear(in_features=48, out_features=48, bias=True)\n",
              "    (3): Sigmoid()\n",
              "    (4): Linear(in_features=48, out_features=1, bias=True)\n",
              "  )\n",
              ")"
            ]
          },
          "metadata": {},
          "execution_count": 22
        }
      ]
    },
    {
      "cell_type": "code",
      "source": [
        "x_t, y_t = next(iter(testloaders[0]))"
      ],
      "metadata": {
        "id": "UQMVyH0A5tsg"
      },
      "execution_count": 23,
      "outputs": []
    },
    {
      "cell_type": "code",
      "source": [
        "pred = net(x_t)"
      ],
      "metadata": {
        "id": "6RwtbyWn52PO"
      },
      "execution_count": 24,
      "outputs": []
    },
    {
      "cell_type": "code",
      "source": [
        "pred = pred.detach().numpy()\n",
        "y_t = y_t.detach().numpy()"
      ],
      "metadata": {
        "id": "ff7d2E8Y6rfb"
      },
      "execution_count": 28,
      "outputs": []
    },
    {
      "cell_type": "code",
      "source": [
        "def plot_series(time, series, format='-', start=0, end=None, label=None, color=None):\n",
        "  plt.plot(time[start:end], series[start:end], format, label=label, color=color)\n",
        "  plt.xlabel('Time')\n",
        "  plt.ylabel('Value')\n",
        "  if label:\n",
        "    plt.legend(fontsize=14)\n",
        "  plt.grid(True)"
      ],
      "metadata": {
        "id": "ARca3bMF6RdY"
      },
      "execution_count": 25,
      "outputs": []
    },
    {
      "cell_type": "code",
      "source": [
        "plt.figure(figsize=(10, 6))\n",
        "time_plot = range(len(y_t))\n",
        "plot_series(time_plot, pred, color='red')\n",
        "plot_series(time_plot, y_t)"
      ],
      "metadata": {
        "colab": {
          "base_uri": "https://localhost:8080/",
          "height": 388
        },
        "id": "IJhkFdiq6Xf3",
        "outputId": "3dd3f051-d367-488c-a16c-dc6f7bf24194"
      },
      "execution_count": 29,
      "outputs": [
        {
          "output_type": "display_data",
          "data": {
            "text/plain": [
              "<Figure size 720x432 with 1 Axes>"
            ],
            "image/png": "[encoded data removed]"
          },
          "metadata": {
            "needs_background": "light"
          }
        }
      ]
    }
  ]
}