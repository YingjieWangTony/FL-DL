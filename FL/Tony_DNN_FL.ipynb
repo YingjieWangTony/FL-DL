{
 "cells": [
  {
   "cell_type": "code",
   "execution_count": null,
   "metadata": {
    "id": "mIaYZiggSxcu"
   },
   "outputs": [],
   "source": [
    "import nest_asyncio\n",
    "nest_asyncio.apply()"
   ]
  },
  {
   "cell_type": "code",
   "execution_count": null,
   "metadata": {
    "colab": {
     "base_uri": "https://localhost:8080/"
    },
    "id": "5LQYEfH53t28",
    "outputId": "df1c0954-f139-4077-c11a-5d55f0297bdd"
   },
   "outputs": [],
   "source": [
    "import matplotlib.pyplot as plt\n",
    "import numpy as np\n",
    "import time\n",
    "import random\n",
    "%matplotlib inline\n",
    "%config InlineBackend.figure_format='retina'\n",
    "from collections import  OrderedDict\n",
    "from sklearn.preprocessing import StandardScaler\n",
    "from sklearn.metrics import mean_squared_error, r2_score"
   ]
  },
  {
   "cell_type": "code",
   "execution_count": null,
   "metadata": {},
   "outputs": [],
   "source": [
    "import tensorflow_federated as tff\n",
    "from tensorflow_federated import python as tff\n"
   ]
  },
  {
   "cell_type": "code",
   "execution_count": null,
   "metadata": {},
   "outputs": [],
   "source": [
    "import tensorflow as tf\n",
    "from tensorflow import keras\n",
    "from tensorflow.keras import models\n",
    "tf.executing_eagerly()"
   ]
  },
  {
   "cell_type": "code",
   "execution_count": null,
   "metadata": {
    "id": "ojgjZQoX4xzT"
   },
   "outputs": [],
   "source": [
    "tf.random.set_seed(24)\n",
    "np.random.seed(24)"
   ]
  },
  {
   "cell_type": "markdown",
   "metadata": {
    "id": "Bq5B4UwhL7y1"
   },
   "source": [
    "# Data processing"
   ]
  },
  {
   "cell_type": "code",
   "execution_count": null,
   "metadata": {
    "id": "duaae_xJ5I0S"
   },
   "outputs": [],
   "source": [
    "random.seed(24)\n",
    "data = []\n",
    "with open ('House_30.txt', 'r') as reader:\n",
    "  for line in reader:\n",
    "    stripped_line = line.strip().split()\n",
    "    data.append(stripped_line)"
   ]
  },
  {
   "cell_type": "code",
   "execution_count": null,
   "metadata": {
    "id": "9rPDS7F1_ZxN"
   },
   "outputs": [],
   "source": [
    "random.seed(24)\n",
    "tem = [x[0] for x in data]\n",
    "houses = list(set(tem))\n",
    "\n",
    "date = []\n",
    "consumption = []\n",
    "for i in houses:\n",
    "  date.append([float(x[1]) for x in data if x[0]==i])\n",
    "  consumption.append([float(x[2]) for x in data if x[0]==i])"
   ]
  },
  {
   "cell_type": "code",
   "execution_count": null,
   "metadata": {
    "id": "YA6jAGS7VZyB"
   },
   "outputs": [],
   "source": [
    "def plot_series(time, series, format='-', start=0, end=None, label=None, color=None):\n",
    "  plt.plot(time[start:end], series[start:end], format, label=label, color=color)\n",
    "  plt.xlabel('Time')\n",
    "  plt.ylabel('Value')\n",
    "  if label:\n",
    "    plt.legend(fontsize=14)\n",
    "  plt.grid(True)"
   ]
  },
  {
   "cell_type": "code",
   "execution_count": null,
   "metadata": {
    "colab": {
     "base_uri": "https://localhost:8080/",
     "height": 1000
    },
    "id": "O7Wy2didkz_I",
    "outputId": "88e614cf-dc2a-4430-addc-b9567b40756a"
   },
   "outputs": [],
   "source": [
    "for i in range(0, 30):\n",
    "  plot_series(range(0, len(consumption[0])), consumption[i])\n",
    "  plt.show()\n",
    "  print('client {:2d}'.format(i))\n",
    "\n",
    "  plt.clf()"
   ]
  },
  {
   "cell_type": "code",
   "execution_count": null,
   "metadata": {
    "id": "3ollUf7onU3P"
   },
   "outputs": [],
   "source": [
    "percentile = np.percentile(consumption, [0, 25, 50, 75, 100])\n",
    "IQR = percentile[3] - percentile[1]\n",
    "# increase the whisker to 3 instead of 1.5\n",
    "UPL = percentile[3] + IQR*3\n",
    "DNL = percentile[1] - IQR*3\n"
   ]
  },
  {
   "cell_type": "code",
   "execution_count": null,
   "metadata": {
    "id": "tlYgb-qinUTy"
   },
   "outputs": [],
   "source": [
    "out_up = [0 for i in range(30)]\n",
    "out_dn = [0 for i in range(30)]\n",
    "for i in range(0, 30):\n",
    "  for j in range(0, len(consumption[i])):\n",
    "    if consumption[i][j] > UPL:\n",
    "      consumption[i][j] = UPL\n",
    "      out_up[i] = out_up[i] + 1\n",
    "    elif consumption[i][j] < DNL:\n",
    "      consumption[i][j] = DNL\n",
    "      out_dn[i] = out_dn[i] + 1\n"
   ]
  },
  {
   "cell_type": "markdown",
   "metadata": {},
   "source": [
    "# Create Training set"
   ]
  },
  {
   "cell_type": "code",
   "execution_count": null,
   "metadata": {
    "id": "w5V2_IAmGvWP"
   },
   "outputs": [],
   "source": [
    "length = len(date[0])\n",
    "split = int(0.8*length)\n",
    "\n",
    "train_raw = [x[0: split] for x in consumption]\n",
    "test_raw = [x[split: ] for x in consumption]"
   ]
  },
  {
   "cell_type": "code",
   "execution_count": null,
   "metadata": {
    "id": "FpRzO0Dxb_RP"
   },
   "outputs": [],
   "source": [
    "def create_dataset_central(data, time_step):\n",
    "  x_data, y_data = [], []\n",
    "  for i in range(len(data) - time_step):\n",
    "    x = data[i: (i + time_step)]\n",
    "    x_data.append(x)\n",
    "    y = [data[i + time_step]]\n",
    "    y_data.append(y)\n",
    "  x_data = np.array(x_data)\n",
    "  y_data = np.array(y_data)\n",
    "  return x_data, y_data"
   ]
  },
  {
   "cell_type": "code",
   "execution_count": null,
   "metadata": {
    "id": "atGhtPnoL7TB"
   },
   "outputs": [],
   "source": [
    "def create_dataset_fed(data, time_step):\n",
    "  x_nest, y_nest = [], []\n",
    "  for j in range(len(data)):\n",
    "    x_data, y_data = [], []\n",
    "    for i in range(len(data[j]) - time_step):\n",
    "      x = data[j][i: (i + time_step)]\n",
    "      x_data.append(x)\n",
    "      y = [data[j][i + time_step]]\n",
    "      y_data.append(y)\n",
    "\n",
    "    x_data = np.array(x_data)[:, :, np.newaxis]\n",
    "    x_nest.append(x_data)\n",
    "    y_nest.append(y_data)\n",
    "  x_nest = np.array(x_nest)  \n",
    "  return [tf.data.Dataset.from_tensor_slices((x_nest[x], np.array(y_nest[x]))) for x in range(len(x_nest))]"
   ]
  },
  {
   "cell_type": "code",
   "execution_count": null,
   "metadata": {
    "id": "zJIAeyKlL0sZ"
   },
   "outputs": [],
   "source": [
    "time_step = 48\n",
    "train_data_fed = create_dataset_fed(train_raw, time_step)\n",
    "test_data_fed = create_dataset_fed(test_raw, time_step)"
   ]
  },
  {
   "cell_type": "code",
   "execution_count": null,
   "metadata": {
    "id": "HT9RlcHUQASb"
   },
   "outputs": [],
   "source": [
    "example_dataset = train_data_fed[0]\n",
    "example_element = next(iter(example_dataset))"
   ]
  },
  {
   "cell_type": "code",
   "execution_count": null,
   "metadata": {
    "id": "rtQLTskHQW0S"
   },
   "outputs": [],
   "source": [
    "num_epochs = 10\n",
    "batch_size = 48\n",
    "shuffle_buffer = 100\n",
    "prefetch_buffer = 10\n",
    "\n",
    "def preprocess_train(dataset):\n",
    "  def batch_format_fn(x_d, y_d):\n",
    "    return OrderedDict(\n",
    "        x=x_d,\n",
    "        y=tf.reshape(y_d, [-1, 1])\n",
    "    )\n",
    "  return dataset.repeat(num_epochs).shuffle(shuffle_buffer, seed=1).batch(\n",
    "      batch_size).map(batch_format_fn).prefetch(prefetch_buffer)  \n",
    "\n",
    "def preprocess_test(dataset):\n",
    "  def batch_format_fn(x_d, y_d):\n",
    "    return OrderedDict(\n",
    "        x=x_d,\n",
    "        y=tf.reshape(y_d, [-1, 1])\n",
    "    )\n",
    "  return dataset.batch(batch_size).map(batch_format_fn).prefetch(prefetch_buffer)"
   ]
  },
  {
   "cell_type": "code",
   "execution_count": null,
   "metadata": {
    "id": "2krZWMB3dw4d"
   },
   "outputs": [],
   "source": [
    "preprocess_example = preprocess_train(example_dataset)"
   ]
  },
  {
   "cell_type": "code",
   "execution_count": null,
   "metadata": {
    "id": "DG39y-xNSLoG"
   },
   "outputs": [],
   "source": [
    "train_set_fed = [preprocess_train(train_data_fed[i]) for i in range(len(train_raw))]\n",
    "test_set_fed = [preprocess_test(test_data_fed[i]) for i in range(len(test_raw))]\n",
    "\n",
    "train_set_central = train_set_fed[0]\n",
    "test_set_central = test_set_fed[0]"
   ]
  },
  {
   "cell_type": "markdown",
   "metadata": {
    "id": "2TjPmsaWVa7C"
   },
   "source": [
    "# Train model"
   ]
  },
  {
   "cell_type": "code",
   "execution_count": null,
   "metadata": {
    "id": "BvTu84EUVdIi"
   },
   "outputs": [],
   "source": [
    "def create_DNN():\n",
    "  return tf.keras.models.Sequential([\n",
    "      keras.layers.Dense(48, activation='relu',\n",
    "      #input_dim = 48),either use Drop layer or regularizer                   \n",
    "      input_dim = 48, kernel_regularizer='l2'),  \n",
    "      keras.layers.Dropout(0.1),\n",
    "      keras.layers.Dense(42, activation='relu'),\n",
    "      keras.layers.Dropout(0.1),\n",
    "      keras.layers.Dense(1)\n",
    "  ])"
   ]
  },
  {
   "cell_type": "code",
   "execution_count": null,
   "metadata": {
    "id": "tOtT_XJNdPxb"
   },
   "outputs": [],
   "source": [
    "def model_fn():\n",
    "  keras_model = create_DNN()\n",
    "  return tff.learning.from_keras_model(\n",
    "      keras_model,\n",
    "      input_spec = preprocess_example.element_spec,\n",
    "      loss = tf.keras.losses.MeanSquaredError(),\n",
    "      metrics = [tf.keras.metrics.MeanSquaredError()]\n",
    "  )"
   ]
  },
  {
   "cell_type": "code",
   "execution_count": null,
   "metadata": {
    "colab": {
     "base_uri": "https://localhost:8080/"
    },
    "id": "SqZAGeE9eI--",
    "outputId": "2e0769e7-783c-44fa-9e38-ec2fd7a27d54"
   },
   "outputs": [],
   "source": [
    "iterative_process = tff.learning.build_federated_averaging_process(\n",
    "    model_fn,\n",
    "    client_optimizer_fn=lambda: keras.optimizers.Adam(0.001),\n",
    "    server_optimizer_fn=lambda: tf.keras.optimizers.SGD(learning_rate=1)\n",
    ")\n",
    "\n",
    "logdir = \"/tmp/logs/scalars/training\"\n",
    "summary_writer = tf.summary.create_file_writer(logdir)\n",
    "state = iterative_process.initialize()"
   ]
  },
  {
   "cell_type": "code",
   "execution_count": null,
   "metadata": {
    "colab": {
     "base_uri": "https://localhost:8080/"
    },
    "id": "eIX0YrwFe1my",
    "outputId": "942ec91c-7100-47e3-b888-8c928cbfed11"
   },
   "outputs": [],
   "source": [
    "num_rounds = 10\n",
    "fed_metrics = [[] for i in range(0, num_rounds)]\n",
    "\n",
    "start_time = time.time()\n",
    "for i in range(0, num_rounds):\n",
    "  state, metrics = iterative_process.next(state, train_set_fed)\n",
    "  fed_metrics[i] = metrics\n",
    "  print('round {:2d}, metrics={}'.format(i+1, metrics))\n",
    "\n",
    "end_time = time.time()\n",
    "train_time = end_time - start_time\n",
    "print(train_time)"
   ]
  },
  {
   "cell_type": "code",
   "execution_count": null,
   "metadata": {
    "colab": {
     "base_uri": "https://localhost:8080/"
    },
    "id": "high_YcRrDxl",
    "outputId": "2ba93819-a3b4-48bb-b7cf-db989aed0bfb"
   },
   "outputs": [],
   "source": [
    "evaluation = tff.learning.build_federated_evaluation(model_fn)\n",
    "metrics = evaluation(state.model, test_set_fed)\n",
    "print(metrics)"
   ]
  },
  {
   "cell_type": "code",
   "execution_count": null,
   "metadata": {
    "id": "wRGplrycM9kR"
   },
   "outputs": [],
   "source": [
    "model_fed = create_DNN()\n",
    "state.model.assign_weights_to(model_fed)"
   ]
  },
  {
   "cell_type": "markdown",
   "metadata": {
    "id": "IFX5RCQVP5iX"
   },
   "source": [
    "use this model to predict on individual dataset directly, like the central model"
   ]
  },
  {
   "cell_type": "code",
   "execution_count": null,
   "metadata": {
    "id": "_a0kIKWAOXDL"
   },
   "outputs": [],
   "source": [
    "sample = tf.nest.map_structure(lambda x: x.numpy(), next(iter(test_set_fed[0])))"
   ]
  },
  {
   "cell_type": "code",
   "execution_count": null,
   "metadata": {
    "id": "IZ43sT5sVOqJ"
   },
   "outputs": [],
   "source": [
    "prediciton_fed = model_fed.predict(sample['x'])\n"
   ]
  },
  {
   "cell_type": "code",
   "execution_count": null,
   "metadata": {
    "colab": {
     "base_uri": "https://localhost:8080/"
    },
    "id": "rux4dD4Gcuzh",
    "outputId": "1eeac2eb-e571-46b8-ee65-339f338afacd"
   },
   "outputs": [],
   "source": [
    "print(f\"MSE_fed: {mean_squared_error(prediciton_fed, sample['y'])}\")\n",
    "print(f\"R2_fed: {r2_score(sample['y'], prediciton_fed)}\")"
   ]
  },
  {
   "cell_type": "code",
   "execution_count": null,
   "metadata": {
    "colab": {
     "base_uri": "https://localhost:8080/",
     "height": 389
    },
    "id": "Tk5l0nPTVgko",
    "outputId": "56a633f4-314e-4900-ed1f-39257a114f85"
   },
   "outputs": [],
   "source": [
    "time_plot = range(0, 48)\n",
    "plt.figure(figsize=(10, 6))\n",
    "plot_series(time_plot, prediciton_fed, color='red')\n",
    "plot_series(time_plot, sample['y'])"
   ]
  },
  {
   "cell_type": "markdown",
   "metadata": {},
   "source": [
    "## Centralized Models"
   ]
  },
  {
   "cell_type": "code",
   "execution_count": null,
   "metadata": {
    "id": "5cKr8L7ufRaQ"
   },
   "outputs": [],
   "source": [
    "x_central, y_central = create_dataset_central(train_raw[0], time_step)\n",
    "x_test, y_test = create_dataset_central(test_raw[0], time_step)"
   ]
  },
  {
   "cell_type": "code",
   "execution_count": null,
   "metadata": {
    "id": "SYJcVekpWr4z"
   },
   "outputs": [],
   "source": [
    "model_central = create_DNN()\n",
    "adam = keras.optimizers.Adam(learning_rate=0.001)\n",
    "model_central.compile(loss='mse', optimizer=adam, metrics=['mse'])"
   ]
  },
  {
   "cell_type": "code",
   "execution_count": null,
   "metadata": {
    "colab": {
     "base_uri": "https://localhost:8080/"
    },
    "id": "oMmfP1xJaevz",
    "outputId": "e89d7fe6-c1e6-4abd-da88-9e4d147441dc"
   },
   "outputs": [],
   "source": [
    "callback = tf.keras.callbacks.EarlyStopping(monitor='loss', patience=10)\n",
    "model_central.fit(\n",
    "   x=x_central,\n",
    "   y=y_central,\n",
    "   batch_size=batch_size,\n",
    "   epochs=500,\n",
    "   callbacks=[callback],\n",
    "   shuffle=True,\n",
    "   verbose=0,\n",
    ")"
   ]
  },
  {
   "cell_type": "code",
   "execution_count": null,
   "metadata": {
    "id": "qbYOWgYtn0cQ"
   },
   "outputs": [],
   "source": [
    "a = model_central.predict(x_test)"
   ]
  },
  {
   "cell_type": "code",
   "execution_count": null,
   "metadata": {
    "colab": {
     "base_uri": "https://localhost:8080/"
    },
    "id": "cahiWNiUfx4x",
    "outputId": "54c17bb3-59b6-4f51-de20-6235b829c043"
   },
   "outputs": [],
   "source": [
    "print(f\"MSE: {mean_squared_error(a, y_test)}\")\n",
    "print(f\"R2: {r2_score(y_test, a)}\")"
   ]
  },
  {
   "cell_type": "code",
   "execution_count": null,
   "metadata": {
    "id": "DtHEVllYnj69"
   },
   "outputs": [],
   "source": [
    "prediction_central = a[0:48]\n"
   ]
  },
  {
   "cell_type": "code",
   "execution_count": null,
   "metadata": {
    "colab": {
     "base_uri": "https://localhost:8080/"
    },
    "id": "IXPH3Mm3dO-C",
    "outputId": "22928703-d1dc-4123-a867-0e24e37f006b"
   },
   "outputs": [],
   "source": [
    "print(f\"MSE_central: {mean_squared_error(prediction_central, y_test[0:48])}\")\n",
    "print(f\"R2_central: {r2_score(y_test[0:48], prediction_central)}\")"
   ]
  },
  {
   "cell_type": "code",
   "execution_count": null,
   "metadata": {
    "colab": {
     "base_uri": "https://localhost:8080/",
     "height": 389
    },
    "id": "puq98y1toI8Y",
    "outputId": "56b8c93f-8bd0-4f7c-eb41-89e56adc703d"
   },
   "outputs": [],
   "source": [
    "time_plot = range(0, 48)\n",
    "plt.figure(figsize=(10, 6))\n",
    "plot_series(time_plot, prediction_central, color='red')\n",
    "plot_series(time_plot, y_test[0:48])"
   ]
  },
  {
   "cell_type": "code",
   "execution_count": null,
   "metadata": {
    "colab": {
     "base_uri": "https://localhost:8080/",
     "height": 387
    },
    "id": "L6mzWoKYoQoc",
    "outputId": "1e47d489-978b-43c6-a743-d935532c695a"
   },
   "outputs": [],
   "source": [
    "time_plot = range(0, 48)\n",
    "plt.figure(figsize=(10, 6))\n",
    "plot_series(time_plot, prediciton_fed, color='red')\n",
    "plot_series(time_plot, prediction_central)"
   ]
  },
  {
   "cell_type": "markdown",
   "metadata": {
    "id": "U4RaI9Eakq9Y"
   },
   "source": [
    "# 30 self-trained DNN"
   ]
  },
  {
   "cell_type": "code",
   "execution_count": null,
   "metadata": {
    "id": "M2Q4OyfUg1hl"
   },
   "outputs": [],
   "source": [
    "xx = [[] for i in range(30)]\n",
    "yy = [[] for i in range(30)]\n",
    "xx_test = [[] for i in range(30)]\n",
    "yy_test = [[] for i in range(30)]\n",
    "\n",
    "for i in range(0, 30):\n",
    "  xx[i], yy[i] = create_dataset_central(train_raw[i], time_step)\n",
    "  xx_test[i], yy_test[i] = create_dataset_central(test_raw[i], time_step)\n",
    "  "
   ]
  },
  {
   "cell_type": "code",
   "execution_count": null,
   "metadata": {
    "id": "bO79FxpBkQ_6"
   },
   "outputs": [],
   "source": [
    "def model_loop(train, target, test):\n",
    "  model_l = create_DNN()\n",
    "  adam = keras.optimizers.Adam(learning_rate=0.001)\n",
    "  model_l.compile(loss='mse', optimizer=adam, metrics=['mse'])\n",
    "  callback = tf.keras.callbacks.EarlyStopping(monitor='loss', patience=10)\n",
    "  model_l.fit(\n",
    "   x=train,\n",
    "   y=target,\n",
    "   batch_size=batch_size,\n",
    "   epochs=500,\n",
    "   callbacks=[callback],\n",
    "   shuffle=True,\n",
    "   verbose=0,)\n",
    "  return model_l.predict(test)"
   ]
  },
  {
   "cell_type": "code",
   "execution_count": null,
   "metadata": {
    "colab": {
     "base_uri": "https://localhost:8080/"
    },
    "id": "BWMqcFH5nJzU",
    "outputId": "dfbe5ed1-5ccd-4213-d067-653d3c5b03c8"
   },
   "outputs": [],
   "source": [
    "l = [[] for i in range(30)]\n",
    "MSE_cen = [[] for i in range(30)]\n",
    "R2_cen = [[] for i in range(30)]\n",
    "\n",
    "start_time = time.time()\n",
    "\n",
    "for i in range(0, 30):\n",
    "  l[i] = model_loop(xx[i], yy[i], xx_test[i])\n",
    "  MSE_cen[i] = mean_squared_error(yy_test[i], l[i])\n",
    "  R2_cen[i] = r2_score(yy_test[i], l[i])\n",
    "  print('client {:2d}, metrics={}'.format(i , MSE_cen[i]))\n",
    "\n",
    "end_time = time.time()\n",
    "train_time_cen = end_time - start_time\n",
    "print(train_time_cen)"
   ]
  },
  {
   "cell_type": "code",
   "execution_count": null,
   "metadata": {
    "colab": {
     "base_uri": "https://localhost:8080/"
    },
    "id": "P8Z4riPN0Jnc",
    "outputId": "d5cd1b45-dc78-4a3e-d0f4-d9f365753ab5"
   },
   "outputs": [],
   "source": [
    "print(\"average MSE:\", np.mean(MSE_cen))"
   ]
  },
  {
   "cell_type": "code",
   "execution_count": null,
   "metadata": {
    "colab": {
     "base_uri": "https://localhost:8080/"
    },
    "id": "mkvRRmPPCwMQ",
    "outputId": "06d8c1fe-6dbf-4c24-cf8c-9ba1d7e8d972"
   },
   "outputs": [],
   "source": [
    "print(\"average MSE:\", np.mean(MSE_cen))\n",
    "worst = max(MSE_cen)\n",
    "worst_id = MSE_cen.index(worst)\n",
    "print(\"worst performance self model:\", worst_id, \"|| MSE = \", worst)\n",
    "best = min(MSE_cen)\n",
    "best_id = MSE_cen.index(best)\n",
    "print(\"best performance self model:\", best_id, \"|| MSE = \", best)"
   ]
  },
  {
   "cell_type": "markdown",
   "metadata": {
    "id": "gfTQTFdey-bH"
   },
   "source": [
    "# worst"
   ]
  },
  {
   "cell_type": "code",
   "execution_count": null,
   "metadata": {
    "colab": {
     "base_uri": "https://localhost:8080/",
     "height": 387
    },
    "id": "n62hY7dQzCbb",
    "outputId": "3badb2fd-a67e-4ad4-996f-0fb236773924"
   },
   "outputs": [],
   "source": [
    "predict_worst = l[worst_id][0:48]\n",
    "plt.figure(figsize=(10, 6))\n",
    "plot_series(time_plot, predict_worst, color='red')\n",
    "plot_series(time_plot, yy_test[worst_id][0:48])"
   ]
  },
  {
   "cell_type": "code",
   "execution_count": null,
   "metadata": {
    "colab": {
     "base_uri": "https://localhost:8080/"
    },
    "id": "3NOPai54og6O",
    "outputId": "dea78d72-d6f4-4a0b-e97e-da9faf8772a4"
   },
   "outputs": [],
   "source": [
    "predict_fed_worst = model_fed.predict(xx_test[worst_id])\n",
    "print(f\"MSE_fed: {mean_squared_error(predict_fed_worst, yy_test[worst_id])}\")\n",
    "print(f\"R2_fed: {r2_score(yy_test[worst_id], predict_fed_worst)}\")"
   ]
  },
  {
   "cell_type": "code",
   "execution_count": null,
   "metadata": {
    "colab": {
     "base_uri": "https://localhost:8080/",
     "height": 387
    },
    "id": "ugd5-hV5z0Rl",
    "outputId": "4198b6eb-5ee1-475d-9d29-70aae7f85a2a"
   },
   "outputs": [],
   "source": [
    "plt.figure(figsize=(10, 6))\n",
    "plot_series(time_plot, predict_fed_worst[0:48], color='green')\n",
    "plot_series(time_plot, predict_worst, color='red')\n",
    "plot_series(time_plot, yy_test[worst_id][0:48])"
   ]
  },
  {
   "cell_type": "code",
   "execution_count": null,
   "metadata": {
    "colab": {
     "base_uri": "https://localhost:8080/",
     "height": 539
    },
    "id": "pNH0U_-5zO9t",
    "outputId": "5a6607cc-da8b-4bda-b4fc-9fe14e3b6d6d"
   },
   "outputs": [],
   "source": [
    "sample_worst_week = consumption[worst_id][48*7*30: 48*7*31]\n",
    "plot_series(range(len(sample_worst_week)), sample_worst_week)\n",
    "plt.show()\n",
    "plt.clf()\n",
    "sample_worst_3day = consumption[worst_id][48*3*100: 48*3*101]\n",
    "plot_series(range(len(sample_worst_3day)), sample_worst_3day)\n",
    "\n"
   ]
  },
  {
   "cell_type": "code",
   "execution_count": null,
   "metadata": {},
   "outputs": [],
   "source": [
    "plot_series(range(len(consumption[worst_id])), consumption[worst_id])\n"
   ]
  },
  {
   "cell_type": "markdown",
   "metadata": {
    "id": "34uT-ddJzRgI"
   },
   "source": [
    "# Best"
   ]
  },
  {
   "cell_type": "code",
   "execution_count": null,
   "metadata": {
    "colab": {
     "base_uri": "https://localhost:8080/",
     "height": 387
    },
    "id": "2uxqJ9zQvV_M",
    "outputId": "83575992-b71b-4f77-9c27-1ec6794f101a"
   },
   "outputs": [],
   "source": [
    "predict_best = l[best_id][0:48]\n",
    "plt.figure(figsize=(10, 6))\n",
    "plot_series(time_plot, predict_best, color='red')\n",
    "plot_series(time_plot, yy_test[best_id][0:48])"
   ]
  },
  {
   "cell_type": "code",
   "execution_count": null,
   "metadata": {
    "colab": {
     "base_uri": "https://localhost:8080/"
    },
    "id": "SEaFvud1neol",
    "outputId": "7ff34ba3-72b8-403b-aa36-a2e1c1fd4378"
   },
   "outputs": [],
   "source": [
    "predict_fed_best = model_fed.predict(xx_test[best_id])\n",
    "print(f\"MSE_fed: {mean_squared_error(predict_fed_best, yy_test[best_id])}\")\n",
    "print(f\"R2_fed: {r2_score(yy_test[best_id], predict_fed_best)}\")"
   ]
  },
  {
   "cell_type": "code",
   "execution_count": null,
   "metadata": {
    "colab": {
     "base_uri": "https://localhost:8080/",
     "height": 387
    },
    "id": "XtKCM5CGz-RL",
    "outputId": "2444f514-1dd2-4251-bc61-338694321fff"
   },
   "outputs": [],
   "source": [
    "plt.figure(figsize=(10, 6))\n",
    "plot_series(time_plot, predict_fed_best[0:48], color='red')\n",
    "plot_series(time_plot, predict_best)"
   ]
  },
  {
   "cell_type": "code",
   "execution_count": null,
   "metadata": {
    "colab": {
     "base_uri": "https://localhost:8080/",
     "height": 539
    },
    "id": "9LrTn9rMvuCX",
    "outputId": "d739a461-9d40-4ccf-896d-5bf000d06179"
   },
   "outputs": [],
   "source": [
    "sample_15_week = consumption[best_id][48*7*30: 48*7*31]\n",
    "plot_series(range(len(sample_15_week)), sample_15_week)\n",
    "plt.show()\n",
    "plt.clf()\n",
    "sample_15_3day = consumption[best_id][48*3*100: 48*3*101]\n",
    "plot_series(range(len(sample_15_3day)), sample_15_3day)\n",
    "\n"
   ]
  },
  {
   "cell_type": "code",
   "execution_count": null,
   "metadata": {
    "collapsed": false
   },
   "outputs": [],
   "source": []
  },
  {
   "cell_type": "code",
   "execution_count": null,
   "metadata": {
    "collapsed": false
   },
   "outputs": [],
   "source": []
  }
 ],
 "metadata": {
  "colab": {
   "collapsed_sections": [],
   "name": "Tony_DNN_FL.ipynb",
   "provenance": []
  },
  "kernelspec": {
   "display_name": "FLDL",
   "language": "python",
   "name": "python3"
  },
  "language_info": {
   "codemirror_mode": {
    "name": "ipython",
    "version": 3
   },
   "file_extension": ".py",
   "mimetype": "text/x-python",
   "name": "python",
   "nbconvert_exporter": "python",
   "pygments_lexer": "ipython3",
   "version": "3.7.13 (default, Mar 29 2022, 02:18:16) \n[GCC 7.5.0]"
  },
  "vscode": {
   "interpreter": {
    "hash": "0291dddd089a34bd8acedd9968ff05852b95b4377a449935fd79bb1524b5fc6a"
   }
  }
 },
 "nbformat": 4,
 "nbformat_minor": 1
}
